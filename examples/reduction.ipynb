{
 "cells": [
  {
   "cell_type": "code",
   "execution_count": null,
   "metadata": {},
   "outputs": [],
   "source": [
    "from pipnick.pipelines.reduction import reduce_all\n",
    "from pipnick.utils.display_fits import display_many_nickel"
   ]
  },
  {
   "cell_type": "markdown",
   "metadata": {},
   "source": [
    "Initialize logger to see output of functions, setting verbosity level to 'DEBUG', 'INFO', 'WARNING', 'ERROR', or 'CRITICAL'. Logs are displayed wherever code is being run (terminal, console, etc.), and 'DEBUG' level logs are always saved to a .log file."
   ]
  },
  {
   "cell_type": "code",
   "execution_count": null,
   "metadata": {},
   "outputs": [],
   "source": [
    "import logging\n",
    "from pipnick.utils.log import adjust_global_logger\n",
    "adjust_global_logger('INFO', __name__)\n",
    "logger = logging.getLogger(__name__)"
   ]
  },
  {
   "cell_type": "markdown",
   "metadata": {},
   "source": [
    "``maindir`` is the directory containing the 'raw' directory. All raw FITS files to be calibrated must be in /maindir/raw/.\n",
    "\n",
    "All results of the ``pipnick`` pipeline will be saved to this directory: reduction products will be saved to a folder called /reduced/ in ``maindir``. If ``save_inters`` is set to True, intermediate products will be saved to /processing/ in ``maindir``"
   ]
  },
  {
   "cell_type": "code",
   "execution_count": null,
   "metadata": {},
   "outputs": [],
   "source": [
    "maindir = 'path/to/maindir/'"
   ]
  },
  {
   "cell_type": "markdown",
   "metadata": {},
   "source": [
    "This call reduces all files in /maindir/raw/, excluding files with ``'d1113'`` in the name or with ``'B'`` filter. It saves intermediate files (overscan subtracted, bias subtracted).\n",
    "\n",
    "This call also creates an ascii Astropy table of all files in /maindir/raw/ for reference at /maindir/reduction_files.tbl, commenting out any files that were excluded."
   ]
  },
  {
   "cell_type": "code",
   "execution_count": null,
   "metadata": {},
   "outputs": [],
   "source": [
    "redfiles = reduce_all(maindir, save_inters=True, \n",
    "                      excl_files=['d1113'], excl_filts=['B'])"
   ]
  },
  {
   "cell_type": "markdown",
   "metadata": {},
   "source": [
    "In the table created at /maindir/reduction_files.tbl, you can use a ``'#'`` to comment out files (such as a bad flat) to be ignored in a future call to ``reduce_all``. Manual exclusions can be provided here as well, and will be propagated to the Astropy file table."
   ]
  },
  {
   "cell_type": "markdown",
   "metadata": {},
   "source": [
    "This call uses this table to determine exclusions. It will exclude the same files as in the first call, and adds in an exclusion for all files with ``'109'`` in the object name. This call also does not save intermediate files,"
   ]
  },
  {
   "cell_type": "code",
   "execution_count": null,
   "metadata": {},
   "outputs": [],
   "source": [
    "redfiles = reduce_all(maindir, use_table=True, \n",
    "                      save_inters=False, excl_objs=['109'])"
   ]
  },
  {
   "cell_type": "markdown",
   "metadata": {},
   "source": [
    "Displays all reduced files."
   ]
  },
  {
   "cell_type": "code",
   "execution_count": null,
   "metadata": {},
   "outputs": [],
   "source": [
    "display_many_nickel(redfiles)"
   ]
  },
  {
   "cell_type": "markdown",
   "metadata": {},
   "source": [
    "The reduced images can also be viewed in DS9.\n",
    "\n",
    "Reduction does not sufficiently work for a few select \"bad columns\", which may be saturated or otherwise affected. These columns are specified in ``nickelpipeline.convenience.nickel_data``, and are masked."
   ]
  }
 ],
 "metadata": {
  "language_info": {
   "name": "python"
  }
 },
 "nbformat": 4,
 "nbformat_minor": 2
}
