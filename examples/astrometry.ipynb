{
 "cells": [
  {
   "cell_type": "markdown",
   "metadata": {},
   "source": [
    "``astrometry_all()`` uses astrometry.net to astrometrically calibrate images that have undergone basic reduction. It saves WCS headers containing the transformation from pixel to world coordinates.\n",
    "\n",
    "astrometry.net usually takes significant time to accept and solve images, and if too few stars are in an image, it will not solve. If a solution is not found in 60 seconds, it will recheck the solution progress after all other images have been calibrated. If a solution still has not been found, you may manually check your submitted images in astrometry.net.\n",
    "\n",
    "The astrometry pipeline & photometry pipeline are independent of each other, and can usually be run simultaneously (very rarely, pipelines may try to access the same file at the same time, throwing an error)."
   ]
  },
  {
   "cell_type": "code",
   "execution_count": null,
   "metadata": {},
   "outputs": [],
   "source": [
    "from pipnick.pipelines.astrometry import astrometry_all"
   ]
  },
  {
   "cell_type": "markdown",
   "metadata": {},
   "source": [
    "Initialize logger to see output of functions, setting verbosity level to 'DEBUG', 'INFO', 'WARNING', 'ERROR', or 'CRITICAL'. Logs are displayed wherever code is being run (terminal, console, etc.), and 'DEBUG' level logs are always saved to a .log file."
   ]
  },
  {
   "cell_type": "code",
   "execution_count": null,
   "metadata": {},
   "outputs": [],
   "source": [
    "import logging\n",
    "from pipnick.utils.log import adjust_global_logger\n",
    "adjust_global_logger('INFO', __name__)\n",
    "logger = logging.getLogger(__name__)"
   ]
  },
  {
   "cell_type": "markdown",
   "metadata": {},
   "source": [
    "``maindir`` is the directory containing the raw & reduced directories. The reduced directory contains images to be calibrated, and must be at /maindir/reduced/"
   ]
  },
  {
   "cell_type": "code",
   "execution_count": null,
   "metadata": {},
   "outputs": [],
   "source": [
    "maindir = 'path/to/maindir/'"
   ]
  },
  {
   "cell_type": "markdown",
   "metadata": {},
   "source": [
    "To run the astrometry pipeline, you need to create an account on https://nova.astrometry.net/ and grab an API key. This is a randomly generated string tied to your user account; everything you do using this pipeline will be through your account on the Astrometry.net web service (e.g. all image uploads will show up on your web profile).\n",
    "\n",
    "Your key is available in the My Profile section of the dashboard."
   ]
  },
  {
   "cell_type": "code",
   "execution_count": null,
   "metadata": {},
   "outputs": [],
   "source": [
    "api_key = \"exampleapikey\""
   ]
  },
  {
   "cell_type": "markdown",
   "metadata": {},
   "source": [
    "This call saves astrometric solutions as WCS header to maindir/astrometric/, outputs the paths to these headers, and skips any images with pre-existing solutions to save time.\n",
    "\n",
    "As with the reduction pipeline, this call also creates an ascii Astropy table, but of all files in /maindir/reduced/ at /maindir/astrometry_files.tbl, commenting out any files that were excluded."
   ]
  },
  {
   "cell_type": "code",
   "execution_count": null,
   "metadata": {},
   "outputs": [],
   "source": [
    "calib_files = astrometry_all(maindir, api_key)"
   ]
  },
  {
   "cell_type": "markdown",
   "metadata": {},
   "source": [
    "As in the reduction pipeline, in the table created at /maindir/astrometry_files.tbl, you can comment out files (such as a bad flat) with a ``'#'`` to be ignored in a future call to ``astrometry_all``. Manual exclusions can be provided here as well, and will be propagated to the Astropy file table."
   ]
  },
  {
   "cell_type": "markdown",
   "metadata": {},
   "source": [
    "In this second call, parameters can be changed to rely on this table for exclusion information, additionally exclude any image taken with the ``'B'`` filter, and to re-solve all images, regardless of whether previously solved."
   ]
  },
  {
   "cell_type": "code",
   "execution_count": null,
   "metadata": {},
   "outputs": [],
   "source": [
    "calib_files = astrometry_all(maindir, api_key, use_table=True,\n",
    "                             resolve=True, excl_filts=['B'])"
   ]
  },
  {
   "cell_type": "markdown",
   "metadata": {},
   "source": [
    "The header saved by this function contains information about the WCS solution."
   ]
  }
 ],
 "metadata": {
  "kernelspec": {
   "display_name": ".venv",
   "language": "python",
   "name": "python3"
  },
  "language_info": {
   "codemirror_mode": {
    "name": "ipython",
    "version": 3
   },
   "file_extension": ".py",
   "mimetype": "text/x-python",
   "name": "python",
   "nbconvert_exporter": "python",
   "pygments_lexer": "ipython3",
   "version": "3.11.1"
  }
 },
 "nbformat": 4,
 "nbformat_minor": 2
}
