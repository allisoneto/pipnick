{
 "cells": [
  {
   "cell_type": "markdown",
   "metadata": {},
   "source": [
    "``final_calib_all()`` is ***currently incomplete***.\n",
    "\n",
    "It currently converts all x, y pixel coordinates to right ascension and declination world coordinates, and requires the products of both the astrometry and photometry pipelines."
   ]
  },
  {
   "cell_type": "code",
   "execution_count": null,
   "metadata": {},
   "outputs": [],
   "source": [
    "from pipnick.pipelines.final_calib import final_calib_all"
   ]
  },
  {
   "cell_type": "markdown",
   "metadata": {},
   "source": [
    "Initialize logger to see output of functions, setting verbosity level to 'DEBUG', 'INFO', 'WARNING', 'ERROR', or 'CRITICAL'. Logs are displayed wherever code is being run (terminal, console, etc.), and 'DEBUG' level logs are always saved to a .log file."
   ]
  },
  {
   "cell_type": "code",
   "execution_count": null,
   "metadata": {},
   "outputs": [],
   "source": [
    "import logging\n",
    "from pipnick.utils.log import adjust_global_logger\n",
    "adjust_global_logger('INFO', __name__)\n",
    "logger = logging.getLogger(__name__)"
   ]
  },
  {
   "cell_type": "markdown",
   "metadata": {},
   "source": [
    "With default parameters, .csv source tables will be pulled from both the maindir/photometric/consolidated/ and maindir/photometric/unconsolidated/ directories, and source tables with RA/Dec coordinates will be saved to a directory called /maindir/final_calib/[astrophotsrcs or astrophotsrcs_consol]. Tables will be organized by object name."
   ]
  },
  {
   "cell_type": "code",
   "execution_count": null,
   "metadata": {},
   "outputs": [],
   "source": [
    "maindir = '/path/to/maindir/'"
   ]
  },
  {
   "cell_type": "markdown",
   "metadata": {},
   "source": [
    "The `use_table` and exclusion inputs are not currently used, but may be implemented when this function is complete. Right now, only `maindir` must be provided."
   ]
  },
  {
   "cell_type": "code",
   "execution_count": null,
   "metadata": {},
   "outputs": [],
   "source": [
    "astrophot_data_tables = final_calib_all(maindir)"
   ]
  },
  {
   "cell_type": "markdown",
   "metadata": {},
   "source": [
    "These .csv source catalogs saved in the output directory can be exported to Excel or Google Sheets for further analysis.\n",
    "\n",
    "In future, this pipeline will use standard stars to convert flux counts from electrons to apparent magnitude."
   ]
  }
 ],
 "metadata": {
  "language_info": {
   "name": "python"
  }
 },
 "nbformat": 4,
 "nbformat_minor": 2
}
