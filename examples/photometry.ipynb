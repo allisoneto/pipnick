{
 "cells": [
  {
   "cell_type": "markdown",
   "metadata": {},
   "source": [
    "``photometry_all()`` creates .csv tables of sources (position, flux, etc.) found in images that have undergone basic reduction.\n",
    "\n",
    "The astrometry pipeline & photometry pipeline are independent of each other, and can usually be run simultaneously (very rarely, pipelines may try to access the same file at the same time, throwing an error)."
   ]
  },
  {
   "cell_type": "code",
   "execution_count": null,
   "metadata": {},
   "outputs": [],
   "source": [
    "from pipnick.pipelines.photometry import photometry_all"
   ]
  },
  {
   "cell_type": "markdown",
   "metadata": {},
   "source": [
    "Initialize logger to see output of functions, setting verbosity level to 'DEBUG', 'INFO', 'WARNING', 'ERROR', or 'CRITICAL'. Logs are displayed wherever code is being run (terminal, console, etc.), and 'DEBUG' level logs are always saved to a .log file."
   ]
  },
  {
   "cell_type": "code",
   "execution_count": null,
   "metadata": {},
   "outputs": [],
   "source": [
    "import logging\n",
    "from pipnick.utils.log import adjust_global_logger\n",
    "adjust_global_logger('INFO', __name__)\n",
    "logger = logging.getLogger(__name__)"
   ]
  },
  {
   "cell_type": "markdown",
   "metadata": {},
   "source": [
    "``reddir`` is the directory containing images to be calibrated. It currently *must* be the whole /reduced/ directory, which contains subdirectories labelled by object name. \n",
    "\n",
    "With default parameters, .csv source tables will be saved to a directory called /data/photometric/[unconsolidated or consolidated] in the same parent as /data/reduced/. Tables will be organized by object name."
   ]
  },
  {
   "cell_type": "markdown",
   "metadata": {},
   "source": [
    "``maindir`` is the directory containing the raw & reduced directories. The reduced directory contains images to be calibrated, and must be at /maindir/reduced/."
   ]
  },
  {
   "cell_type": "code",
   "execution_count": null,
   "metadata": {},
   "outputs": [],
   "source": [
    "maindir = 'path/to/data/'"
   ]
  },
  {
   "cell_type": "markdown",
   "metadata": {},
   "source": [
    "With default parameters, this call: \n",
    "- Performs photometry on all images in /maindir/reduced/\n",
    "- Uses the default detection threshold (8.0 = detect only sources brighter than 8.0 x background STD)\n",
    "- Uses a circular Moffat fit\n",
    "- Uses the photutils setting mode = 'all' (recommended not to change--see https://photutils.readthedocs.io/en/stable/api/photutils.psf.IterativePSFPhotometry.html)\n",
    "\n",
    "It saves .csv source tables to /maindir/photometric/[unconsolidated or consolidated], organized by object name.\n",
    "\n",
    "As with the reduction pipeline, this call also creates an ascii Astropy table, but of all files in /maindir/reduced/ at /maindir/astrometry_files.tbl, commenting out any files that were excluded."
   ]
  },
  {
   "cell_type": "code",
   "execution_count": null,
   "metadata": {},
   "outputs": [],
   "source": [
    "src_catalog_paths = photometry_all(maindir)"
   ]
  },
  {
   "cell_type": "markdown",
   "metadata": {},
   "source": [
    "Alternatively, these parameters can be changed. This example:\n",
    "- Uses the table produced by the first call to determine file exclusions\n",
    "- Additionally excludes any files using the ``'B'`` filter\n",
    "- Uses an elliptical Moffat fit\n",
    "- Consolidates groups of sources into one source\n",
    "- Generates matplotlib plots showing all detected sources & their fluxes\n",
    "- Generates matplotlib plots showing cutouts of all source groups to manually determine if a group should be consolidated"
   ]
  },
  {
   "cell_type": "code",
   "execution_count": null,
   "metadata": {},
   "outputs": [],
   "source": [
    "src_catalog_paths = photometry_all(maindir, use_table=True, excl_filts=['B'], \n",
    "                                   thresh=15.0, group=True, fittype='ellip', \n",
    "                                   plot_final=True, plot_inters=True)"
   ]
  },
  {
   "cell_type": "markdown",
   "metadata": {},
   "source": [
    "If possible, you should run final calibrations using the ``pipnick.pipelines.final_calib`` module before exporting these .csv files for further analysis."
   ]
  }
 ],
 "metadata": {
  "language_info": {
   "name": "python"
  }
 },
 "nbformat": 4,
 "nbformat_minor": 2
}
